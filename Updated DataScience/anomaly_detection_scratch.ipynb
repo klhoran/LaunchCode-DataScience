{
 "cells": [
  {
   "cell_type": "code",
   "execution_count": 25,
   "metadata": {
    "collapsed": true
   },
   "outputs": [],
   "source": [
    "import numpy as np\n",
    "import pandas as pd\n",
    "import matplotlib.pyplot as plt\n",
    "from scipy.stats import multivariate_normal"
   ]
  },
  {
   "cell_type": "markdown",
   "metadata": {},
   "source": [
    "## Generate synthetic Data:"
   ]
  },
  {
   "cell_type": "code",
   "execution_count": 27,
   "metadata": {
    "collapsed": false
   },
   "outputs": [],
   "source": [
    "mu = np.zeros(2)\n",
    "cov = np.eye(2)\n",
    "samples  = np.random.multivariate_normal(mu,cov,1000)"
   ]
  },
  {
   "cell_type": "code",
   "execution_count": 32,
   "metadata": {
    "collapsed": false
   },
   "outputs": [
    {
     "data": {
      "image/png": "[encoded data removed]",
      "text/plain": [
       "<matplotlib.figure.Figure at 0x117e02be0>"
      ]
     },
     "metadata": {},
     "output_type": "display_data"
    }
   ],
   "source": [
    "plt.plot(samples[:,0],samples[:,1],\".\")\n",
    "plt.show()"
   ]
  },
  {
   "cell_type": "markdown",
   "metadata": {},
   "source": [
    "## Fitting the multivariate Normal density to the Date:"
   ]
  },
  {
   "cell_type": "code",
   "execution_count": 50,
   "metadata": {
    "collapsed": false
   },
   "outputs": [],
   "source": [
    "mean_data = np.apply_along_axis(np.mean,0,samples)\n",
    "cov_data = np.cov(np.transpose(samples))"
   ]
  },
  {
   "cell_type": "code",
   "execution_count": 119,
   "metadata": {
    "collapsed": false
   },
   "outputs": [
    {
     "data": {
      "text/plain": [
       "array([ 3.00681875,  1.51117569])"
      ]
     },
     "execution_count": 119,
     "metadata": {},
     "output_type": "execute_result"
    }
   ],
   "source": [
    "mean_data"
   ]
  },
  {
   "cell_type": "code",
   "execution_count": 120,
   "metadata": {
    "collapsed": false
   },
   "outputs": [
    {
     "data": {
      "text/plain": [
       "array([[  1.61541557,   4.52461581],\n",
       "       [  4.52461581,  21.01293043]])"
      ]
     },
     "execution_count": 120,
     "metadata": {},
     "output_type": "execute_result"
    }
   ],
   "source": [
    "cov_data"
   ]
  },
  {
   "cell_type": "code",
   "execution_count": 53,
   "metadata": {
    "collapsed": false
   },
   "outputs": [],
   "source": [
    "prob_samples = multivariate_normal.pdf(samples,mean_data,cov_data)"
   ]
  },
  {
   "cell_type": "code",
   "execution_count": 54,
   "metadata": {
    "collapsed": false
   },
   "outputs": [
    {
     "data": {
      "text/plain": [
       "0.0015765038514869191"
      ]
     },
     "execution_count": 54,
     "metadata": {},
     "output_type": "execute_result"
    }
   ],
   "source": [
    "threshold = 0.01*max(prob_samples)\n",
    "threshold"
   ]
  },
  {
   "cell_type": "code",
   "execution_count": 55,
   "metadata": {
    "collapsed": false
   },
   "outputs": [
    {
     "data": {
      "text/plain": [
       "0.1576503851486919"
      ]
     },
     "execution_count": 55,
     "metadata": {},
     "output_type": "execute_result"
    }
   ],
   "source": [
    "max(prob_samples)"
   ]
  },
  {
   "cell_type": "code",
   "execution_count": 58,
   "metadata": {
    "collapsed": false
   },
   "outputs": [],
   "source": [
    "anomalies = samples[prob_samples<threshold]"
   ]
  },
  {
   "cell_type": "code",
   "execution_count": 59,
   "metadata": {
    "collapsed": false
   },
   "outputs": [
    {
     "data": {
      "image/png": "[encoded data removed]",
      "text/plain": [
       "<matplotlib.figure.Figure at 0x11add94a8>"
      ]
     },
     "metadata": {},
     "output_type": "display_data"
    }
   ],
   "source": [
    "plt.plot(anomalies[:,0],anomalies[:,1],\".\")\n",
    "plt.show()"
   ]
  },
  {
   "cell_type": "markdown",
   "metadata": {},
   "source": [
    "## Non- Gaussian Data:"
   ]
  },
  {
   "cell_type": "code",
   "execution_count": 184,
   "metadata": {
    "collapsed": false
   },
   "outputs": [],
   "source": [
    "mu1 = [4,6]\n",
    "cov1 = np.eye(2)\n",
    "cov1[1,0] = 0.75\n",
    "cov1[0,1] = 0.75\n",
    "cov1[1,1] = 4\n",
    "mu2 = [2,-3]\n",
    "cov2 = 0.5*np.eye(2)\n",
    "\n",
    "samples1  = np.random.multivariate_normal(mu1,cov1,1000)\n",
    "\n",
    "samples2 = np.random.multivariate_normal(mu2,cov2,1000)\n",
    "samples_new = np.row_stack((samples1,samples2))"
   ]
  },
  {
   "cell_type": "code",
   "execution_count": 185,
   "metadata": {
    "collapsed": false
   },
   "outputs": [
    {
     "data": {
      "text/plain": [
       "array([[ 1.  ,  0.75],\n",
       "       [ 0.75,  4.  ]])"
      ]
     },
     "execution_count": 185,
     "metadata": {},
     "output_type": "execute_result"
    }
   ],
   "source": [
    "cov1"
   ]
  },
  {
   "cell_type": "code",
   "execution_count": 186,
   "metadata": {
    "collapsed": false
   },
   "outputs": [
    {
     "data": {
      "image/png": "[encoded data removed]",
      "text/plain": [
       "<matplotlib.figure.Figure at 0x11f70eac8>"
      ]
     },
     "metadata": {},
     "output_type": "display_data"
    }
   ],
   "source": [
    "plt.plot(samples_new[:,0],samples_new[:,1],'.')\n",
    "plt.show()"
   ]
  },
  {
   "cell_type": "code",
   "execution_count": 187,
   "metadata": {
    "collapsed": false
   },
   "outputs": [],
   "source": [
    "mean_data = np.apply_along_axis(np.mean,0,samples_new)\n",
    "cov_data = np.cov(np.transpose(samples_new))"
   ]
  },
  {
   "cell_type": "code",
   "execution_count": 188,
   "metadata": {
    "collapsed": false
   },
   "outputs": [
    {
     "data": {
      "text/plain": [
       "array([ 3.01719882,  1.52426561])"
      ]
     },
     "execution_count": 188,
     "metadata": {},
     "output_type": "execute_result"
    }
   ],
   "source": [
    "mean_data"
   ]
  },
  {
   "cell_type": "code",
   "execution_count": 189,
   "metadata": {
    "collapsed": false
   },
   "outputs": [
    {
     "data": {
      "text/plain": [
       "array([[  1.74617   ,   4.97070954],\n",
       "       [  4.97070954,  23.28274765]])"
      ]
     },
     "execution_count": 189,
     "metadata": {},
     "output_type": "execute_result"
    }
   ],
   "source": [
    "cov_data"
   ]
  },
  {
   "cell_type": "code",
   "execution_count": 190,
   "metadata": {
    "collapsed": true
   },
   "outputs": [],
   "source": [
    "prob_samples_new = multivariate_normal.pdf(samples_new,mean_data,cov_data)"
   ]
  },
  {
   "cell_type": "code",
   "execution_count": 191,
   "metadata": {
    "collapsed": false
   },
   "outputs": [
    {
     "data": {
      "image/png": "[encoded data removed]",
      "text/plain": [
       "<matplotlib.figure.Figure at 0x11f76ccc0>"
      ]
     },
     "metadata": {},
     "output_type": "display_data"
    }
   ],
   "source": [
    "plt.hist(prob_samples_new,bins=100)\n",
    "plt.show()"
   ]
  },
  {
   "cell_type": "code",
   "execution_count": 192,
   "metadata": {
    "collapsed": true
   },
   "outputs": [],
   "source": [
    "anomalies = samples_new[prob_samples_new < threshold]"
   ]
  },
  {
   "cell_type": "code",
   "execution_count": 193,
   "metadata": {
    "collapsed": false
   },
   "outputs": [
    {
     "data": {
      "text/plain": [
       "array([[  6.33067845,   7.94080013],\n",
       "       [  2.61882603,   8.15548542],\n",
       "       [  1.73234542,   6.87777119],\n",
       "       [  6.55265699,   9.11015239],\n",
       "       [  6.2161853 ,   7.16560841],\n",
       "       [  6.16942039,   3.89198672],\n",
       "       [  2.10403268,   6.44028783],\n",
       "       [  2.88724224,  10.1173782 ],\n",
       "       [  1.57714948,   7.21023782],\n",
       "       [  1.3555603 ,   5.21838555],\n",
       "       [  6.43346115,   5.64644575],\n",
       "       [  1.57228594,   5.42904561],\n",
       "       [  6.23187406,   6.927552  ],\n",
       "       [  2.43945207,   8.54829829],\n",
       "       [  5.47722291,   2.04351781],\n",
       "       [  5.88908494,   5.61845743],\n",
       "       [  6.8249669 ,   9.5725214 ],\n",
       "       [  6.57109377,   6.15405627],\n",
       "       [  6.24438754,   3.16755121],\n",
       "       [  3.50537009,  11.14592732],\n",
       "       [  2.01113073,   6.61135371],\n",
       "       [  6.473987  ,   4.87594231],\n",
       "       [  6.26254737,   6.94349595],\n",
       "       [  5.98890734,   4.88200143],\n",
       "       [  6.47733574,   9.6706937 ],\n",
       "       [  6.04254456,   4.89149916],\n",
       "       [  6.402814  ,   7.1789461 ],\n",
       "       [  1.97155351,   7.66341903],\n",
       "       [  6.15180398,   5.9979711 ],\n",
       "       [  6.75952102,   6.81332331],\n",
       "       [  4.91412592,   0.55209248],\n",
       "       [  6.51535246,  10.21553107],\n",
       "       [  5.86770645,   4.86295283],\n",
       "       [  1.64889944,   9.14962607],\n",
       "       [  7.18025854,  10.18255554],\n",
       "       [  2.48628704,   7.68247559],\n",
       "       [ -0.03893964,  -2.08984634],\n",
       "       [  4.25940375,  -3.99883723],\n",
       "       [  3.97260512,  -3.74831445],\n",
       "       [  0.28145214,  -1.59384572],\n",
       "       [ -0.04261708,  -2.32014871],\n",
       "       [ -0.16963434,  -2.88332119],\n",
       "       [  4.24880426,  -4.02022469]])"
      ]
     },
     "execution_count": 193,
     "metadata": {},
     "output_type": "execute_result"
    }
   ],
   "source": [
    "anomalies"
   ]
  },
  {
   "cell_type": "code",
   "execution_count": 194,
   "metadata": {
    "collapsed": false
   },
   "outputs": [
    {
     "data": {
      "image/png": "[encoded data removed]",
      "text/plain": [
       "<matplotlib.figure.Figure at 0x11f73d5c0>"
      ]
     },
     "metadata": {},
     "output_type": "display_data"
    }
   ],
   "source": [
    "plt.plot(anomalies[:,0],anomalies[:,1],\".\")\n",
    "plt.show()"
   ]
  },
  {
   "cell_type": "code",
   "execution_count": null,
   "metadata": {
    "collapsed": true
   },
   "outputs": [],
   "source": []
  },
  {
   "cell_type": "code",
   "execution_count": null,
   "metadata": {
    "collapsed": true
   },
   "outputs": [],
   "source": []
  }
 ],
 "metadata": {
  "kernelspec": {
   "display_name": "Python 3",
   "language": "python",
   "name": "python3"
  },
  "language_info": {
   "codemirror_mode": {
    "name": "ipython",
    "version": 3
   },
   "file_extension": ".py",
   "mimetype": "text/x-python",
   "name": "python",
   "nbconvert_exporter": "python",
   "pygments_lexer": "ipython3",
   "version": "3.6.0"
  }
 },
 "nbformat": 4,
 "nbformat_minor": 2
}
